{
 "cells": [
  {
   "cell_type": "markdown",
   "id": "429eed87",
   "metadata": {},
   "source": [
    "# Miniproject :Implement the Naive string matching algorithm and Rabin-Karp algorithm for  string matching. Observe difference in working of both the algorithms for the same input.\n"
   ]
  },
  {
   "cell_type": "code",
   "execution_count": 1,
   "id": "9fe09f1c",
   "metadata": {},
   "outputs": [
    {
     "name": "stdout",
     "output_type": "stream",
     "text": [
      "Pattern found at index 0\n",
      "Pattern found at index 10\n"
     ]
    }
   ],
   "source": [
    "#Rabin-Karp Algorithm for Pattern Searching\n",
    "# Following program is the python implementation of\n",
    "# Rabin Karp Algorithm given in CLRS book\n",
    " \n",
    "# d is the number of characters in the input alphabet\n",
    "d = 256\n",
    " \n",
    "# pat  -> pattern\n",
    "# txt  -> text\n",
    "# q    -> A prime number\n",
    " \n",
    " \n",
    "def search(pat, txt, q):\n",
    "    M = len(pat)\n",
    "    N = len(txt)\n",
    "    i = 0\n",
    "    j = 0\n",
    "    p = 0    # hash value for pattern\n",
    "    t = 0    # hash value for txt\n",
    "    h = 1\n",
    " \n",
    "    # The value of h would be \"pow(d, M-1)%q\"\n",
    "    for i in range(M-1):\n",
    "        h = (h*d) % q\n",
    " \n",
    "    # Calculate the hash value of pattern and first window\n",
    "    # of text\n",
    "    for i in range(M):\n",
    "        p = (d*p + ord(pat[i])) % q\n",
    "        t = (d*t + ord(txt[i])) % q\n",
    " \n",
    "    # Slide the pattern over text one by one\n",
    "    for i in range(N-M+1):\n",
    "        # Check the hash values of current window of text and\n",
    "        # pattern if the hash values match then only check\n",
    "        # for characters one by one\n",
    "        if p == t:\n",
    "            # Check for characters one by one\n",
    "            for j in range(M):\n",
    "                if txt[i+j] != pat[j]:\n",
    "                    break\n",
    "                else:\n",
    "                    j += 1\n",
    " \n",
    "            # if p == t and pat[0...M-1] = txt[i, i+1, ...i+M-1]\n",
    "            if j == M:\n",
    "                print(\"Pattern found at index \" + str(i))\n",
    " \n",
    "        # Calculate hash value for next window of text: Remove\n",
    "        # leading digit, add trailing digit\n",
    "        if i < N-M:\n",
    "            t = (d*(t-ord(txt[i])*h) + ord(txt[i+M])) % q\n",
    " \n",
    "            # We might get negative values of t, converting it to\n",
    "            # positive\n",
    "            if t < 0:\n",
    "                t = t+q\n",
    " \n",
    " \n",
    "# Driver Code\n",
    "if __name__ == '__main__':\n",
    "    txt = \"GEEKS FOR GEEKS\"\n",
    "    pat = \"GEEK\"\n",
    " \n",
    "    # A prime number\n",
    "    q = 101\n",
    " \n",
    "    # Function Call\n",
    "    search(pat, txt, q)\n",
    " \n"
   ]
  },
  {
   "cell_type": "code",
   "execution_count": 2,
   "id": "34567d99",
   "metadata": {},
   "outputs": [
    {
     "name": "stdout",
     "output_type": "stream",
     "text": [
      "Pattern found at index  0\n",
      "Pattern found at index  9\n",
      "Pattern found at index  13\n"
     ]
    }
   ],
   "source": [
    "# Python3 program for Naive Pattern\n",
    "# Searching algorithm\n",
    " \n",
    " \n",
    "def search(pat, txt):\n",
    "    M = len(pat)\n",
    "    N = len(txt)\n",
    " \n",
    "    # A loop to slide pat[] one by one */\n",
    "    for i in range(N - M + 1):\n",
    "        j = 0\n",
    " \n",
    "        # For current index i, check\n",
    "        # for pattern match */\n",
    "        while(j < M):\n",
    "            if (txt[i + j] != pat[j]):\n",
    "                break\n",
    "            j += 1\n",
    " \n",
    "        if (j == M):\n",
    "            print(\"Pattern found at index \", i)\n",
    " \n",
    " \n",
    "# Driver's Code\n",
    "if __name__ == '__main__':\n",
    "    txt = \"AABAACAADAABAAABAA\"\n",
    "    pat = \"AABA\"\n",
    "     \n",
    "    # Function call\n",
    "    search(pat, txt)\n",
    " \n"
   ]
  },
  {
   "cell_type": "code",
   "execution_count": 1,
   "id": "fcfe9775",
   "metadata": {},
   "outputs": [],
   "source": [
    "# Time complexity for Naive String matching algorithm: O(n^2)\n",
    "# Space complexity for Naive String matching algorithm :O(1)"
   ]
  },
  {
   "cell_type": "code",
   "execution_count": null,
   "id": "2f28b2a1",
   "metadata": {},
   "outputs": [],
   "source": [
    "# Time Complexity for Rabin Karp Algorithm : \n",
    "# Best and Average case complexity : O(n+m)\n",
    "# Worst Case Complexity : O(nm)\n",
    "\n",
    "#Sapce Complexity for Robin Karp Algorithm : O(1)"
   ]
  }
 ],
 "metadata": {
  "kernelspec": {
   "display_name": "Python 3 (ipykernel)",
   "language": "python",
   "name": "python3"
  },
  "language_info": {
   "codemirror_mode": {
    "name": "ipython",
    "version": 3
   },
   "file_extension": ".py",
   "mimetype": "text/x-python",
   "name": "python",
   "nbconvert_exporter": "python",
   "pygments_lexer": "ipython3",
   "version": "3.10.7"
  }
 },
 "nbformat": 4,
 "nbformat_minor": 5
}
